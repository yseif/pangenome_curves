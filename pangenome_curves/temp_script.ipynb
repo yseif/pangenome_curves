{
 "cells": [
  {
   "cell_type": "code",
   "execution_count": 46,
   "metadata": {},
   "outputs": [],
   "source": [
    "#  remove files from github\n",
    "\n",
    "from glob import glob\n",
    "import matplotlib\n",
    "from matplotlib import pyplot as plt\n",
    "%matplotlib inline\n",
    "\n",
    "import numpy as np\n",
    "import os\n",
    "import scipy\n",
    "import pandas as pd"
   ]
  },
  {
   "cell_type": "code",
   "execution_count": 131,
   "metadata": {},
   "outputs": [],
   "source": [
    "def get_pangenome_counts(input_table, bootstrap_no):\n",
    "\n",
    "    core_rows = defaultdict(dict)\n",
    "    pan_rows = defaultdict(dict)\n",
    "\n",
    "    for i in range(bootstrap_no):\n",
    "        gid_list = np.array(input_table.columns)\n",
    "        np.random.shuffle(gid_list)\n",
    "\n",
    "        core = []\n",
    "        pan = []\n",
    "        count = 0\n",
    "\n",
    "        for gid in gid_list:\n",
    "            if core == []:\n",
    "                core = set(input_table.loc[input_table[gid] != 0].index)\n",
    "            else:\n",
    "                core = set(input_table.loc[input_table[gid] != 0].index) & set(core)\n",
    "            if pan == []:\n",
    "                pan = np.array(input_table.loc[input_table[gid] != 0].index)\n",
    "            else:\n",
    "                pan = np.union1d(np.array(input_table.loc[input_table[gid] != 0].index), pan)\n",
    "\n",
    "            core_rows['try_%d'%i][count] = len(core)\n",
    "            pan_rows['try_%d'%i][count] = len(pan)\n",
    "            count += 1\n",
    "            \n",
    "    core_matrix = pd.DataFrame(core_rows)\n",
    "    pan_matrix = pd.DataFrame(pan_rows)\n",
    "    \n",
    "    pangenome_res = pd.DataFrame({'Core genome (mean)':core_matrix.apply(np.mean, axis = 1), 'Core genome (std)':core_matrix.apply(np.std, axis = 1), \n",
    " 'Pan genome (mean)':pan_matrix.apply(np.mean, axis = 1), 'Pan genome (std)':pan_matrix.apply(np.std, axis = 1)})\n",
    "    return pangenome_res\n",
    "\n",
    "\n",
    "def plot_pangenome_curves(pangenome_res, ax, plot_std = False):\n",
    "\n",
    "    xrange = pangenome_res.index\n",
    "\n",
    "    ax.plot(xrange, pangenome_res['Core genome (mean)'], 'maroon', label = 'Core genome')\n",
    "\n",
    "    ax.plot(xrange, pangenome_res['Pan genome (mean)'], 'midnightblue', label = 'Pan genome')\n",
    "\n",
    "    ax.legend()\n",
    "\n",
    "    if plot_std == True:\n",
    "\n",
    "        ax.plot(xrange, pangenome_res['Core genome (mean)'] + pangenome_res['Core genome (std)'], 'maroon', linestyle = 'dashed', linewidth = 0.8)\n",
    "        ax.plot(xrange, pangenome_res['Core genome (mean)'] - pangenome_res['Core genome (std)'], 'maroon', linestyle = 'dashed', linewidth = 0.8)\n",
    "\n",
    "        ax.plot(xrange, pangenome_res['Pan genome (mean)'] + pangenome_res['Pan genome (std)'], 'midnightblue', linestyle = 'dashed', linewidth = 0.8)\n",
    "        ax.plot(xrange, pangenome_res['Pan genome (mean)'] - pangenome_res['Pan genome (std)'], 'midnightblue', linestyle = 'dashed', linewidth = 0.8)    \n",
    "\n",
    "\n",
    "    ax.set_ylabel('No. genes')\n",
    "    ax.set_xlabel('No. strains')  \n",
    "    \n",
    "    return ax\n",
    "    \n",
    "from scipy.optimize import curve_fit\n",
    "\n",
    "def heaps_func(X, k, gamma):\n",
    "    return k*X[0]**gamma+ X[1]\n",
    "\n",
    "def return_heaps_estimates(matrix):\n",
    "    popt, pcov = curve_fit(heaps_func, [range(len(pangenome_res)),pangenome_res['Pan genome (mean)'].iloc[0]], pangenome_res['Pan genome (mean)'])\n",
    "    stds = np.sqrt(np.diag(pcov))\n",
    "    heaps_estimates = pd.DataFrame(list({'K estimate':round(popt[0],3), 'Gamma estimate': round(popt[1],3), 'K standard deviation':round(stds[0], 3), 'Gamma standard deviation': round(stds[1], 3)}.items())).set_index(0).T\n",
    "    return heaps_estimates"
   ]
  },
  {
   "cell_type": "code",
   "execution_count": 132,
   "metadata": {},
   "outputs": [],
   "source": [
    "from glob import glob"
   ]
  },
  {
   "cell_type": "code",
   "execution_count": 133,
   "metadata": {},
   "outputs": [],
   "source": [
    "os.makedirs('/home/yara/Documents/pangenome_curves/output')"
   ]
  },
  {
   "cell_type": "code",
   "execution_count": null,
   "metadata": {
    "scrolled": true
   },
   "outputs": [
    {
     "name": "stdout",
     "output_type": "stream",
     "text": [
      "p_aeru\n"
     ]
    },
    {
     "name": "stderr",
     "output_type": "stream",
     "text": [
      "/home/yara/.local/lib/python3.5/site-packages/ipykernel_launcher.py:19: DeprecationWarning: elementwise comparison failed; this will raise an error in the future.\n"
     ]
    },
    {
     "name": "stdout",
     "output_type": "stream",
     "text": [
      "e_faecium\n",
      "s_aurues\n",
      "a_baum\n"
     ]
    },
    {
     "name": "stderr",
     "output_type": "stream",
     "text": [
      "/home/yara/.local/lib/python3.5/site-packages/ipykernel_launcher.py:63: RuntimeWarning: divide by zero encountered in power\n"
     ]
    },
    {
     "name": "stdout",
     "output_type": "stream",
     "text": [
      "e_cloacae\n",
      "e_coli\n"
     ]
    }
   ],
   "source": [
    "bootstrap_no = 1000\n",
    "heaps_estimate = pd.DataFrame()\n",
    "\n",
    "for input_file in glob('../data/functional_subsystem/*'):\n",
    "    organism = input_file.split('/')[-1].split('_pan_input_matrix')[0]\n",
    "    print(organism)\n",
    "    input_table = pd.read_csv(input_file, dtype = {'genome_id':str}).set_index('genome_id').T\n",
    "\n",
    "    pangenome_res = get_pangenome_counts(input_table, bootstrap_no)\n",
    "    pangenome_res.to_csv('/home/yara/Documents/pangenome_curves/output/%s'%organism)\n",
    "\n",
    "    heaps_estimate = heaps_estimate.append(return_heaps_estimates(pan_matrix).rename(index = {1:organism}))"
   ]
  },
  {
   "cell_type": "code",
   "execution_count": null,
   "metadata": {},
   "outputs": [],
   "source": [
    "fig, axes = plt.subplots(4, 2, figsize = (10,10))\n",
    "i = 0\n",
    "for input_file in glob('../data/functional_subsystem/*'):\n",
    "    organism = input_file.split('/')[-1].split('_pan_input_matrix')[0]\n",
    "    pangenome_res = pd.read_csv('/home/yara/Documents/pangenome_curves/output/%s'%organism)\n",
    "    axes[i%4, int(i/4)] = plot_pangenome_curves(pangenome_res, axes[i%4, int(i/4)], plot_std= True)\n",
    "    i += 1"
   ]
  },
  {
   "cell_type": "code",
   "execution_count": null,
   "metadata": {},
   "outputs": [],
   "source": []
  },
  {
   "cell_type": "code",
   "execution_count": null,
   "metadata": {},
   "outputs": [],
   "source": []
  },
  {
   "cell_type": "code",
   "execution_count": 103,
   "metadata": {},
   "outputs": [
    {
     "data": {
      "image/png": "[encoded data removed]",
      "text/plain": [
       "<Figure size 432x288 with 1 Axes>"
      ]
     },
     "metadata": {
      "needs_background": "light"
     },
     "output_type": "display_data"
    }
   ],
   "source": [
    "fig, ax2 = plt.subplots(1,1)\n",
    "ax2 = plot_pangenome_curves(core_matrix, pan_matrix, ax2)\n",
    "fig.savefig('temp_plot.svg')"
   ]
  },
  {
   "cell_type": "code",
   "execution_count": 104,
   "metadata": {},
   "outputs": [
    {
     "ename": "ValueError",
     "evalue": "Only know how to handle extensions: ['png']; with Pillow installed matplotlib can handle more images",
     "output_type": "error",
     "traceback": [
      "\u001b[0;31m---------------------------------------------------------------------------\u001b[0m",
      "\u001b[0;31mImportError\u001b[0m                               Traceback (most recent call last)",
      "\u001b[0;32m/usr/local/lib/python3.5/dist-packages/matplotlib/image.py\u001b[0m in \u001b[0;36mimread\u001b[0;34m(fname, format)\u001b[0m\n\u001b[1;32m   1345\u001b[0m         \u001b[0;32mtry\u001b[0m\u001b[0;34m:\u001b[0m\u001b[0;34m\u001b[0m\u001b[0m\n\u001b[0;32m-> 1346\u001b[0;31m             \u001b[0;32mfrom\u001b[0m \u001b[0mPIL\u001b[0m \u001b[0;32mimport\u001b[0m \u001b[0mImage\u001b[0m\u001b[0;34m\u001b[0m\u001b[0m\n\u001b[0m\u001b[1;32m   1347\u001b[0m         \u001b[0;32mexcept\u001b[0m \u001b[0mImportError\u001b[0m\u001b[0;34m:\u001b[0m\u001b[0;34m\u001b[0m\u001b[0m\n",
      "\u001b[0;31mImportError\u001b[0m: No module named 'PIL'",
      "\nDuring handling of the above exception, another exception occurred:\n",
      "\u001b[0;31mValueError\u001b[0m                                Traceback (most recent call last)",
      "\u001b[0;32m<ipython-input-104-f5669f264314>\u001b[0m in \u001b[0;36m<module>\u001b[0;34m\u001b[0m\n\u001b[1;32m      1\u001b[0m \u001b[0mfig\u001b[0m\u001b[0;34m,\u001b[0m \u001b[0max\u001b[0m \u001b[0;34m=\u001b[0m \u001b[0mplt\u001b[0m\u001b[0;34m.\u001b[0m\u001b[0msubplots\u001b[0m\u001b[0;34m(\u001b[0m\u001b[0;36m1\u001b[0m\u001b[0;34m,\u001b[0m\u001b[0;36m2\u001b[0m\u001b[0;34m)\u001b[0m\u001b[0;34m\u001b[0m\u001b[0m\n\u001b[0;32m----> 2\u001b[0;31m \u001b[0max\u001b[0m\u001b[0;34m[\u001b[0m\u001b[0;36m0\u001b[0m\u001b[0;34m]\u001b[0m \u001b[0;34m=\u001b[0m \u001b[0mplt\u001b[0m\u001b[0;34m.\u001b[0m\u001b[0mimread\u001b[0m\u001b[0;34m(\u001b[0m\u001b[0;34m'temp_plot.svg'\u001b[0m\u001b[0;34m)\u001b[0m\u001b[0;34m\u001b[0m\u001b[0m\n\u001b[0m\u001b[1;32m      3\u001b[0m \u001b[0max\u001b[0m\u001b[0;34m[\u001b[0m\u001b[0;36m1\u001b[0m\u001b[0;34m]\u001b[0m \u001b[0;34m=\u001b[0m \u001b[0mplt\u001b[0m\u001b[0;34m.\u001b[0m\u001b[0mimread\u001b[0m\u001b[0;34m(\u001b[0m\u001b[0;34m'temp_plot.svg'\u001b[0m\u001b[0;34m)\u001b[0m\u001b[0;34m\u001b[0m\u001b[0m\n",
      "\u001b[0;32m/usr/local/lib/python3.5/dist-packages/matplotlib/pyplot.py\u001b[0m in \u001b[0;36mimread\u001b[0;34m(fname, format)\u001b[0m\n\u001b[1;32m   2150\u001b[0m \u001b[0;34m@\u001b[0m\u001b[0mdocstring\u001b[0m\u001b[0;34m.\u001b[0m\u001b[0mcopy_dedent\u001b[0m\u001b[0;34m(\u001b[0m\u001b[0mmatplotlib\u001b[0m\u001b[0;34m.\u001b[0m\u001b[0mimage\u001b[0m\u001b[0;34m.\u001b[0m\u001b[0mimread\u001b[0m\u001b[0;34m)\u001b[0m\u001b[0;34m\u001b[0m\u001b[0m\n\u001b[1;32m   2151\u001b[0m \u001b[0;32mdef\u001b[0m \u001b[0mimread\u001b[0m\u001b[0;34m(\u001b[0m\u001b[0mfname\u001b[0m\u001b[0;34m,\u001b[0m \u001b[0mformat\u001b[0m\u001b[0;34m=\u001b[0m\u001b[0;32mNone\u001b[0m\u001b[0;34m)\u001b[0m\u001b[0;34m:\u001b[0m\u001b[0;34m\u001b[0m\u001b[0m\n\u001b[0;32m-> 2152\u001b[0;31m     \u001b[0;32mreturn\u001b[0m \u001b[0mmatplotlib\u001b[0m\u001b[0;34m.\u001b[0m\u001b[0mimage\u001b[0m\u001b[0;34m.\u001b[0m\u001b[0mimread\u001b[0m\u001b[0;34m(\u001b[0m\u001b[0mfname\u001b[0m\u001b[0;34m,\u001b[0m \u001b[0mformat\u001b[0m\u001b[0;34m)\u001b[0m\u001b[0;34m\u001b[0m\u001b[0m\n\u001b[0m\u001b[1;32m   2153\u001b[0m \u001b[0;34m\u001b[0m\u001b[0m\n\u001b[1;32m   2154\u001b[0m \u001b[0;34m\u001b[0m\u001b[0m\n",
      "\u001b[0;32m/usr/local/lib/python3.5/dist-packages/matplotlib/image.py\u001b[0m in \u001b[0;36mimread\u001b[0;34m(fname, format)\u001b[0m\n\u001b[1;32m   1348\u001b[0m             raise ValueError('Only know how to handle extensions: %s; '\n\u001b[1;32m   1349\u001b[0m                              \u001b[0;34m'with Pillow installed matplotlib can handle '\u001b[0m\u001b[0;34m\u001b[0m\u001b[0m\n\u001b[0;32m-> 1350\u001b[0;31m                              'more images' % list(handlers))\n\u001b[0m\u001b[1;32m   1351\u001b[0m         \u001b[0;32mwith\u001b[0m \u001b[0mImage\u001b[0m\u001b[0;34m.\u001b[0m\u001b[0mopen\u001b[0m\u001b[0;34m(\u001b[0m\u001b[0mfname\u001b[0m\u001b[0;34m)\u001b[0m \u001b[0;32mas\u001b[0m \u001b[0mimage\u001b[0m\u001b[0;34m:\u001b[0m\u001b[0;34m\u001b[0m\u001b[0m\n\u001b[1;32m   1352\u001b[0m             \u001b[0;32mreturn\u001b[0m \u001b[0mpil_to_array\u001b[0m\u001b[0;34m(\u001b[0m\u001b[0mimage\u001b[0m\u001b[0;34m)\u001b[0m\u001b[0;34m\u001b[0m\u001b[0m\n",
      "\u001b[0;31mValueError\u001b[0m: Only know how to handle extensions: ['png']; with Pillow installed matplotlib can handle more images"
     ]
    },
    {
     "data": {
      "image/png": "[encoded data removed]",
      "text/plain": [
       "<Figure size 432x288 with 2 Axes>"
      ]
     },
     "metadata": {
      "needs_background": "light"
     },
     "output_type": "display_data"
    }
   ],
   "source": [
    "fig, ax = plt.subplots(1,2)\n",
    "ax[0] = plt.imread('temp_plot.svg')\n",
    "ax[1] = plt.imread('temp_plot.svg')"
   ]
  },
  {
   "cell_type": "code",
   "execution_count": 75,
   "metadata": {},
   "outputs": [
    {
     "data": {
      "text/plain": [
       "array([0.07677665, 0.00244214])"
      ]
     },
     "execution_count": 75,
     "metadata": {},
     "output_type": "execute_result"
    }
   ],
   "source": [
    "stds = np.sqrt(np.diag(pcov))"
   ]
  },
  {
   "cell_type": "code",
   "execution_count": null,
   "metadata": {},
   "outputs": [],
   "source": []
  }
 ],
 "metadata": {
  "kernelspec": {
   "display_name": "Python 3",
   "language": "python",
   "name": "python3"
  },
  "language_info": {
   "codemirror_mode": {
    "name": "ipython",
    "version": 3
   },
   "file_extension": ".py",
   "mimetype": "text/x-python",
   "name": "python",
   "nbconvert_exporter": "python",
   "pygments_lexer": "ipython3",
   "version": "3.5.2"
  }
 },
 "nbformat": 4,
 "nbformat_minor": 2
}
